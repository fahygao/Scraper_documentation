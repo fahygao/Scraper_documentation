{
 "cells": [
  {
   "cell_type": "code",
   "execution_count": 10,
   "id": "72c4d793",
   "metadata": {},
   "outputs": [],
   "source": [
    "#have to change the logic that can detect the new event prior to the last event. "
   ]
  },
  {
   "cell_type": "code",
   "execution_count": 12,
   "id": "3f80a8dd",
   "metadata": {},
   "outputs": [],
   "source": [
    "import import_ipynb \n",
    "from twitter_secrets import twitter_secrets as ts\n",
    "import pandas as pd\n",
    "import tweepy \n",
    "\n",
    "consumer_key = ts.CONSUMER_KEY\n",
    "consumer_secret = ts.CONSUMER_SECRET\n",
    "access_token = ts.ACCESS_TOKEN\n",
    "access_secret = ts.ACCESS_SECRET\n",
    "\n",
    "#authenticating to access the twitter API\n",
    "auth=tweepy.OAuthHandler(consumer_key,consumer_secret)\n",
    "auth.set_access_token(access_token,access_secret)\n",
    "api=tweepy.API(auth)"
   ]
  },
  {
   "cell_type": "code",
   "execution_count": 31,
   "id": "d2ecdaea",
   "metadata": {
    "scrolled": true
   },
   "outputs": [],
   "source": [
    "from selenium import webdriver\n",
    "\"\"\"WebDriver drives a browser natively, as a user would, \n",
    "either locally or on a remote machine using the Selenium server, \n",
    "marks a leap forward in terms of browser automation.\"\"\"\n",
    "from webdriver_manager.chrome import ChromeDriverManager\n",
    "from selenium.webdriver.chrome.service import Service\n",
    "\n",
    "import time\n",
    "import pandas as pd\n",
    "from datetime import datetime\n",
    "import json\n",
    "from win32com.client import Dispatch\n",
    "import win32com.client as win32\n",
    "import os\n",
    "from collections import defaultdict \n",
    "url=\"******\" #website link\n",
    "driver = webdriver.Chrome(service=Service(ChromeDriverManager().install())) #auto-install the chromedriver\n",
    "driver.get(url) #get the url for webdriver"
   ]
  },
  {
   "cell_type": "code",
   "execution_count": 32,
   "id": "79543237",
   "metadata": {
    "scrolled": true
   },
   "outputs": [],
   "source": [
    "# time.sleep(10)\n",
    "# print(date.text)\n",
    "driver.refresh()\n",
    "time.sleep(5)\n",
    "\n",
    "event_date =driver.find_element(\"xpath\",\"******\") \n",
    "update_date = driver.find_element(\"xpath\",\"******\")\n",
    "\n",
    "event_date = event_date.text\n",
    "update_date = update_date.text\n"
   ]
  },
  {
   "cell_type": "code",
   "execution_count": 33,
   "id": "5dab380e",
   "metadata": {
    "scrolled": true
   },
   "outputs": [
    {
     "data": {
      "text/plain": [
       "('06 June 2023', '02 Jun 2023')"
      ]
     },
     "execution_count": 33,
     "metadata": {},
     "output_type": "execute_result"
    }
   ],
   "source": [
    "\n",
    "event_date,update_date"
   ]
  },
  {
   "cell_type": "code",
   "execution_count": 34,
   "id": "c2a74ed8",
   "metadata": {},
   "outputs": [],
   "source": [
    "import pyttsx3\n",
    "engine = pyttsx3.init()\n",
    "voices = engine.getProperty('voices')   \n",
    "\n",
    "engine.setProperty('rate', 160)\n",
    "engine.setProperty('voice', \"HKEY_LOCAL_MACHINE\\SOFTWARE\\Microsoft\\Speech\\Voices\\Tokens\\TTS_MS_EN-US_ZIRA_11.0\")\n",
    "engine.say(\"High Court Scraper is running\")\n",
    "engine.runAndWait()"
   ]
  },
  {
   "cell_type": "code",
   "execution_count": null,
   "id": "da98b8e8",
   "metadata": {},
   "outputs": [
    {
     "name": "stdout",
     "output_type": "stream",
     "text": [
      "starting time: 2023-06-05 13:14:30.492697\n"
     ]
    }
   ],
   "source": [
    "print(\"starting time:\", datetime.now())\n",
    "try:\n",
    "    while True: \n",
    "        driver.refresh()\n",
    "        time.sleep(5)\n",
    "        new_event_date =driver.find_element(\"xpath\",\"******\") \n",
    "        new_update_date = driver.find_element(\"xpath\",\"******\")\n",
    "\n",
    "        new_event_date = new_event_date.text\n",
    "        new_update_date = new_update_date.text\n",
    "        if new_event_date!=event_date or new_update_date!= update_date: \n",
    "            engine.say(\"****** has updated!\")\n",
    "            engine.runAndWait()\n",
    "            time_c = datetime.now()\n",
    "            tweet= \"From:****** \\nNew Event updated @\"+str(time_c)+\"\\n\"+ str(url)\n",
    "            outlook=Dispatch('Outlook.Application')\n",
    "            mail = outlook.CreateItem(0)\n",
    "            mail.SentOnBehalfOfName = '******.com'\n",
    "            mail.To=\"******.com\"\n",
    "            mail.Subject = 'UPDATED ******'\n",
    "            mail.HTMLBody = (\"\"\"****** new event updated @{} <br><br>\n",
    "                    URL: {}<br><br>\"\"\".format(str(time_c), str(url)))\n",
    "            mail.Display()\n",
    "            update_date = new_update_date\n",
    "            event_date = new_event_date\n",
    "        time.sleep(5)\n",
    "except Exception as e: #report the error when the program stopped\n",
    "    stop_time = datetime.now()\n",
    "    outlook=Dispatch('Outlook.Application')\n",
    "    mail = outlook.CreateItem(0)\n",
    "    mail.SentOnBehalfOfName = '******.com'\n",
    "    mail.To=\"******.com\"\n",
    "    mail.Subject = '******: Scraper STOPPED'\n",
    "    mail.HTMLBody = (\"\"\"****** scraper stopped at {} with problem: {}\"\"\".format(stop_time,e))\n",
    "    mail.Send()"
   ]
  },
  {
   "cell_type": "code",
   "execution_count": null,
   "id": "5dcde298",
   "metadata": {},
   "outputs": [],
   "source": []
  },
  {
   "cell_type": "code",
   "execution_count": null,
   "id": "6f9ef160",
   "metadata": {},
   "outputs": [],
   "source": []
  }
 ],
 "metadata": {
  "kernelspec": {
   "display_name": "Python 3 (ipykernel)",
   "language": "python",
   "name": "python3"
  },
  "language_info": {
   "codemirror_mode": {
    "name": "ipython",
    "version": 3
   },
   "file_extension": ".py",
   "mimetype": "text/x-python",
   "name": "python",
   "nbconvert_exporter": "python",
   "pygments_lexer": "ipython3",
   "version": "3.11.2"
  }
 },
 "nbformat": 4,
 "nbformat_minor": 5
}
